{
 "cells": [
  {
   "cell_type": "markdown",
   "metadata": {},
   "source": [
    "# Word Window Classifier"
   ]
  },
  {
   "cell_type": "markdown",
   "metadata": {},
   "source": [
    "The aim of this notebook is to define a NLP neural network able to detect the color-related words contained in a sentence.\\\n",
    "Inspired by [Standford's CS224N lab](https://stanford.edu/class/cs224n/materials/CS224N_PyTorch_Tutorial.html)."
   ]
  },
  {
   "cell_type": "markdown",
   "metadata": {},
   "source": [
    "## Modules Importation"
   ]
  },
  {
   "cell_type": "code",
   "execution_count": 24,
   "metadata": {},
   "outputs": [],
   "source": [
    "import torch\n",
    "import torch.nn as nn\n",
    "\n",
    "from typing import List, Tuple, Dict\n",
    "from torch.utils.data import DataLoader\n",
    "from functools import partial"
   ]
  },
  {
   "cell_type": "markdown",
   "metadata": {},
   "source": [
    "## Corpus Definition"
   ]
  },
  {
   "cell_type": "markdown",
   "metadata": {},
   "source": [
    "The present dataset is composed by different sentences.\\\n",
    "The purpose of the model is to be able to recognize a color among these words."
   ]
  },
  {
   "cell_type": "code",
   "execution_count": 25,
   "metadata": {},
   "outputs": [],
   "source": [
    "sentences = [\n",
    "    \"The sky was a brilliant shade of blue.\",\n",
    "    \"She wore a stunning red dress to the party.\",\n",
    "    \"The leaves turned vibrant shades of orange and yellow in the fall.\",\n",
    "    \"His new car is a sleek black.\",\n",
    "    \"The walls of the room were painted a calming light green.\",\n",
    "    \"A fluffy white cat sat on the windowsill.\",\n",
    "    \"The sunset was a beautiful mix of pink and purple.\",\n",
    "    \"She admired the emerald green of the gemstone.\",\n",
    "    \"The artist used a lot of bright yellow in his painting.\",\n",
    "    \"The ocean looked turquoise under the midday sun.\",\n",
    "    \"He bought a pair of brown leather shoes.\",\n",
    "    \"The morning sky was a soft pastel pink.\",\n",
    "    \"The old book had a faded blue cover.\",\n",
    "    \"Her eyes were a striking shade of hazel.\",\n",
    "    \"The banana was ripe and yellow.\",\n",
    "    \"The house had a cheerful red front door.\",\n",
    "    \"The mountain peaks were capped with white snow.\",\n",
    "    \"She chose a light grey suit for the interview.\",\n",
    "    \"The grapes were a dark purple, almost black.\",\n",
    "    \"The sunset painted the horizon with orange and red hues.\",\n",
    "    \"The bird had bright blue feathers.\",\n",
    "    \"The grass was lush and green after the rain.\",\n",
    "    \"He preferred writing with a black pen.\",\n",
    "    \"Her hair was dyed a vivid purple.\",\n",
    "    \"The butterfly had wings of brilliant blue.\",\n",
    "    \"The apples were shiny and red.\",\n",
    "    \"The night sky was a deep, inky black.\",\n",
    "    \"She decorated the room with light lavender curtains.\",\n",
    "    \"Who are these greens snakes that are whistling on your heads for?\"\n",
    "]\n"
   ]
  },
  {
   "cell_type": "markdown",
   "metadata": {},
   "source": [
    "## Data Preprocessing"
   ]
  },
  {
   "cell_type": "markdown",
   "metadata": {},
   "source": [
    "Usually, when starting a NLP task, it is recommanded to preprocess the given sentences this way:\\\n",
    "\\- lowering each character;\\\n",
    "\\- splitting the sentence into tokens (i.e. an array where each element is a word);\\\n",
    "\\- removing stop words;\\\n",
    "\\- stemming or lemmatizing the words.\n",
    "\n",
    "With regards to the fact that this notebook is mainly made to expose word window classifiers, the two last steps are not going to be performed as they are not required."
   ]
  },
  {
   "cell_type": "code",
   "execution_count": 26,
   "metadata": {},
   "outputs": [
    {
     "data": {
      "text/plain": [
       "['the', 'sky', 'was', 'a', 'brilliant', 'shade', 'of', 'blue']"
      ]
     },
     "execution_count": 26,
     "metadata": {},
     "output_type": "execute_result"
    }
   ],
   "source": [
    "punctuation = set([',', ';', '.', '?', '!', '/', \"'\", '-', '_'])\n",
    "\n",
    "def tokenize(sentence: str) -> List[str]:\n",
    "    for punc in punctuation: sentence = sentence.replace(punc, '')\n",
    "    return sentence.lower().split(' ')\n",
    "\n",
    "train_sentences = [tokenize(sentence) for sentence in sentences]\n",
    "\n",
    "# Example \n",
    "train_sentences[0]"
   ]
  },
  {
   "cell_type": "markdown",
   "metadata": {},
   "source": [
    "The input sentence `\"The sky was a brilliant shade of blue.\"` is transfored into the array of tokens `['the', 'sky', 'was', 'a', 'brilliant', 'shade', 'of', 'blue']`, which is actually better when it comes to machine learning tasks.\n",
    "\n",
    "The following array defines the labels of the input words. For sentence, the array contains the name number of integers as the input array has words. These integers are equal to `1`if the word refers to a color, else `0`."
   ]
  },
  {
   "cell_type": "code",
   "execution_count": 27,
   "metadata": {},
   "outputs": [],
   "source": [
    "train_labels = [\n",
    "    [0, 0, 0, 0, 0, 0, 0, 1],              # \"The sky was a brilliant shade of blue.\"\n",
    "    [0, 0, 0, 0, 1, 0, 0, 0, 0],           # \"She wore a stunning red dress to the party.\"\n",
    "    [0, 0, 0, 0, 0, 0, 1, 0, 1, 0, 0, 0],  # \"The leaves turned vibrant shades of orange and yellow in the fall.\"\n",
    "    [0, 0, 0, 0, 0, 0, 1],                 # \"His new car is a sleek black.\"\n",
    "    [0, 0, 0, 0, 0, 0, 0, 0, 0, 0, 1],     # \"The walls of the room were painted a calming light green.\"\n",
    "    [0, 0, 1, 0, 0, 0, 0, 0],              # \"A fluffy white cat sat on the windowsill.\"\n",
    "    [0, 0, 0, 0, 0, 0, 0, 1, 0, 1],        # \"The sunset was a beautiful mix of pink and purple.\"\n",
    "    [0, 0, 0, 0, 1, 0, 0, 0],              # \"She admired the emerald green of the gemstone.\"\n",
    "    [0, 0, 0, 0, 0, 0, 0, 1, 0, 0, 0],     # \"The artist used a lot of bright yellow in his painting.\"\n",
    "    [0, 0, 0, 1, 0, 0, 0, 0],              # \"The ocean looked turquoise under the midday sun.\"\n",
    "    [0, 0, 0, 0, 0, 1, 0, 0],              # \"He bought a pair of brown leather shoes.\"\n",
    "    [0, 0, 0, 0, 0, 0, 0, 1],              # \"The morning sky was a soft pastel pink.\"\n",
    "    [0, 0, 0, 0, 0, 0, 1, 0],              # \"The old book had a faded blue cover.\"\n",
    "    [0, 0, 0, 0, 0, 0, 0, 1],              # \"Her eyes were a striking shade of hazel.\"\n",
    "    [0, 0, 0, 0, 0, 1],                    # \"The banana was ripe and yellow.\"\n",
    "    [0, 0, 0, 0, 0, 1, 0, 0],              # \"The house had a cheerful red front door.\"\n",
    "    [0, 0, 0, 0, 0, 0, 1, 0],              # \"The mountain peaks were capped with white snow.\"\n",
    "    [0, 0, 0, 0, 1, 0, 0, 0, 0],           # \"She chose a light grey suit for the interview.\"\n",
    "    [0, 0, 0, 0, 0, 1, 0, 1],              # \"The grapes were a dark purple, almost black.\"\n",
    "    [0, 0, 0, 0, 0, 0, 1, 0, 1, 0],        # \"The sunset painted the horizon with orange and red hues.\"\n",
    "    [0, 0, 0, 0, 1, 0],                    # \"The bird had bright blue feathers.\"\n",
    "    [0, 0, 0, 0, 0, 1, 0, 0, 0],           # \"The grass was lush and green after the rain.\"\n",
    "    [0, 0, 0, 0, 0, 1, 0],                 # \"He preferred writing with a black pen.\"\n",
    "    [0, 0, 0, 0, 0, 0, 1],                 # \"Her hair was dyed a vivid purple.\"\n",
    "    [0, 0, 0, 0, 0, 0, 1],                 # \"The butterfly had wings of brilliant blue.\"\n",
    "    [0, 0, 0, 0, 0, 1],                    # \"The apples were shiny and red.\"\n",
    "    [0, 0, 0, 0, 0, 0, 0, 1],              # \"The night sky was a deep, inky black.\"\n",
    "    [0, 0, 0, 0, 0, 0, 1, 0],              # \"She decorated the room with light lavender curtains.\"\n",
    "    [0, 0, 0, 1, 0, 0, 0, 0, 0, 0, 0, 0]   # \"Who are these greens snakes that are whistling on your heads for?\"\n",
    "]\n"
   ]
  },
  {
   "cell_type": "markdown",
   "metadata": {},
   "source": [
    "It is convenient for the following tasks to define a set of words, here called `vocabulary`.\\\n",
    "This set contains every word contained in the dataset's sentences."
   ]
  },
  {
   "cell_type": "code",
   "execution_count": 28,
   "metadata": {},
   "outputs": [
    {
     "data": {
      "text/plain": [
       "{'a',\n",
       " 'admired',\n",
       " 'after',\n",
       " 'almost',\n",
       " 'and',\n",
       " 'apples',\n",
       " 'are',\n",
       " 'artist',\n",
       " 'banana',\n",
       " 'beautiful',\n",
       " 'bird',\n",
       " 'black',\n",
       " 'blue',\n",
       " 'book',\n",
       " 'bought',\n",
       " 'bright',\n",
       " 'brilliant',\n",
       " 'brown',\n",
       " 'butterfly',\n",
       " 'calming',\n",
       " 'capped',\n",
       " 'car',\n",
       " 'cat',\n",
       " 'cheerful',\n",
       " 'chose',\n",
       " 'cover',\n",
       " 'curtains',\n",
       " 'dark',\n",
       " 'decorated',\n",
       " 'deep',\n",
       " 'door',\n",
       " 'dress',\n",
       " 'dyed',\n",
       " 'emerald',\n",
       " 'eyes',\n",
       " 'faded',\n",
       " 'fall',\n",
       " 'feathers',\n",
       " 'fluffy',\n",
       " 'for',\n",
       " 'front',\n",
       " 'gemstone',\n",
       " 'grapes',\n",
       " 'grass',\n",
       " 'green',\n",
       " 'greens',\n",
       " 'grey',\n",
       " 'had',\n",
       " 'hair',\n",
       " 'hazel',\n",
       " 'he',\n",
       " 'heads',\n",
       " 'her',\n",
       " 'his',\n",
       " 'horizon',\n",
       " 'house',\n",
       " 'hues',\n",
       " 'in',\n",
       " 'inky',\n",
       " 'interview',\n",
       " 'is',\n",
       " 'lavender',\n",
       " 'leather',\n",
       " 'leaves',\n",
       " 'light',\n",
       " 'looked',\n",
       " 'lot',\n",
       " 'lush',\n",
       " 'midday',\n",
       " 'mix',\n",
       " 'morning',\n",
       " 'mountain',\n",
       " 'new',\n",
       " 'night',\n",
       " 'ocean',\n",
       " 'of',\n",
       " 'old',\n",
       " 'on',\n",
       " 'orange',\n",
       " 'painted',\n",
       " 'painting',\n",
       " 'pair',\n",
       " 'party',\n",
       " 'pastel',\n",
       " 'peaks',\n",
       " 'pen',\n",
       " 'pink',\n",
       " 'preferred',\n",
       " 'purple',\n",
       " 'rain',\n",
       " 'red',\n",
       " 'ripe',\n",
       " 'room',\n",
       " 'sat',\n",
       " 'shade',\n",
       " 'shades',\n",
       " 'she',\n",
       " 'shiny',\n",
       " 'shoes',\n",
       " 'sky',\n",
       " 'sleek',\n",
       " 'snakes',\n",
       " 'snow',\n",
       " 'soft',\n",
       " 'striking',\n",
       " 'stunning',\n",
       " 'suit',\n",
       " 'sun',\n",
       " 'sunset',\n",
       " 'that',\n",
       " 'the',\n",
       " 'these',\n",
       " 'to',\n",
       " 'turned',\n",
       " 'turquoise',\n",
       " 'under',\n",
       " 'used',\n",
       " 'vibrant',\n",
       " 'vivid',\n",
       " 'walls',\n",
       " 'was',\n",
       " 'were',\n",
       " 'whistling',\n",
       " 'white',\n",
       " 'who',\n",
       " 'windowsill',\n",
       " 'wings',\n",
       " 'with',\n",
       " 'wore',\n",
       " 'writing',\n",
       " 'yellow',\n",
       " 'your'}"
      ]
     },
     "execution_count": 28,
     "metadata": {},
     "output_type": "execute_result"
    }
   ],
   "source": [
    "vocabulary = set(word for sentence in train_sentences for word in sentence)\n",
    "vocabulary"
   ]
  },
  {
   "cell_type": "markdown",
   "metadata": {},
   "source": [
    "When asking the model's to predict what is the color(s) of a sentence, it is possible that it faces a word that is not in its vocabulary.\\\n",
    "To prevent from this, the unknown word is added to the set of words as `'<unk>'`.\\\n",
    "Also, as the models relies on a window of words sliding through the sentence, it is required to define another special words to handle the side effects. This padding word is defined as `'<pad>'`."
   ]
  },
  {
   "cell_type": "code",
   "execution_count": 29,
   "metadata": {},
   "outputs": [],
   "source": [
    "vocabulary.add('<unk>')\n",
    "vocabulary.add('<pad>')"
   ]
  },
  {
   "cell_type": "code",
   "execution_count": 30,
   "metadata": {},
   "outputs": [
    {
     "name": "stdout",
     "output_type": "stream",
     "text": [
      "Padded sentence: ['<pad>', '<pad>', 'the', 'sky', 'was', 'a', 'brilliant', 'shade', 'of', 'blue', '<pad>', '<pad>']\n"
     ]
    }
   ],
   "source": [
    "def pad_window(sentence: List[str], window_size: int, pad_token='<pad>') -> List[str]:\n",
    "    window = [pad_token] * window_size\n",
    "    return window + sentence + window\n",
    "\n",
    "# Example\n",
    "print(f'Padded sentence: {pad_window(train_sentences[0], window_size=2)}')"
   ]
  },
  {
   "cell_type": "markdown",
   "metadata": {},
   "source": [
    "It is now possible to automatically add padding to each tokenized sentences.\\\n",
    "The next step to make this dataset compatible with machine learning models is to give to each word a unique index it can refer to."
   ]
  },
  {
   "cell_type": "code",
   "execution_count": 31,
   "metadata": {},
   "outputs": [],
   "source": [
    "word_to_index = {word: index for index, word in enumerate(sorted(list(vocabulary)))}\n",
    "index_to_word = {index: word for index, word in enumerate(sorted(list(vocabulary)))}"
   ]
  },
  {
   "cell_type": "markdown",
   "metadata": {},
   "source": [
    "Two functions are now defined to process this way the entire dataset."
   ]
  },
  {
   "cell_type": "code",
   "execution_count": 32,
   "metadata": {},
   "outputs": [
    {
     "name": "stdout",
     "output_type": "stream",
     "text": [
      "Original: Are birds red?\n",
      "Tokenized: ['are', 'birds', 'red']\n",
      "Indices: [8, 1, 92]\n",
      "Restored: ['are', '<unk>', 'red']\n"
     ]
    }
   ],
   "source": [
    "def tokens_to_indices(sentence: List[str], word_to_index: Dict[str, int]) -> List[int]:\n",
    "    return [word_to_index[token] if token in word_to_index else word_to_index['<unk>'] for token in sentence]\n",
    "\n",
    "def indices_to_token(indices: List[int], index_to_word: Dict[int, str]) -> List[str]:\n",
    "    return [index_to_word[index] for index in indices]\n",
    "\n",
    "sentence_ver = 'Are birds red?'\n",
    "tokenized_ver = tokenize(sentence_ver)\n",
    "indices_ver = tokens_to_indices(tokenized_ver, word_to_index)\n",
    "restored_ver = indices_to_token(indices_ver, index_to_word)\n",
    "\n",
    "print(f'Original: {sentence_ver}')\n",
    "print(f'Tokenized: {tokenized_ver}')\n",
    "print(f'Indices: {indices_ver}')\n",
    "print(f'Restored: {restored_ver}')"
   ]
  },
  {
   "cell_type": "markdown",
   "metadata": {},
   "source": [
    "As explained before, \"birds\" is not a word of the set of words previously defined. Thus, is it replaced by `'<unk>'`."
   ]
  },
  {
   "cell_type": "code",
   "execution_count": 33,
   "metadata": {},
   "outputs": [
    {
     "data": {
      "text/plain": [
       "[[112, 101, 122, 2, 18, 96, 77, 14],\n",
       " [98, 130, 2, 107, 92, 33, 114, 112, 84],\n",
       " [112, 65, 115, 119, 97, 77, 80, 6, 132, 59, 112, 38],\n",
       " [55, 74, 23, 62, 2, 102, 13],\n",
       " [112, 121, 77, 112, 94, 123, 81, 2, 21, 66, 46]]"
      ]
     },
     "execution_count": 33,
     "metadata": {},
     "output_type": "execute_result"
    }
   ],
   "source": [
    "train_indices = [tokens_to_indices(sentence, word_to_index) for sentence in train_sentences]\n",
    "train_indices[:5]"
   ]
  },
  {
   "cell_type": "markdown",
   "metadata": {},
   "source": [
    "## Model Definition"
   ]
  },
  {
   "cell_type": "code",
   "execution_count": 34,
   "metadata": {},
   "outputs": [
    {
     "data": {
      "text/plain": [
       "[Parameter containing:\n",
       " tensor([[ 1.4400e+00, -2.6946e-01,  6.6482e-01,  1.1632e+00, -6.5084e-02],\n",
       "         [-3.3123e-01, -3.9320e-02,  1.2404e-01,  6.3372e-01,  1.4701e+00],\n",
       "         [-6.3385e-02, -3.6675e-01, -6.0017e-01,  2.7738e-01, -5.8430e-01],\n",
       "         [ 5.4820e-01,  6.6289e-01, -9.0787e-01, -1.7304e+00, -1.6757e+00],\n",
       "         [ 8.9007e-01,  8.9525e-02, -3.1659e-01, -6.3764e-02, -1.1951e-01],\n",
       "         [ 2.1790e-01, -6.2005e-01,  7.9539e-01,  4.4432e-01,  6.2194e-01],\n",
       "         [-8.6940e-01,  9.3615e-01, -5.5359e-01,  1.2746e+00, -1.9499e-01],\n",
       "         [ 1.8527e-01, -4.0601e-01, -8.3505e-01, -1.1950e+00,  1.2917e+00],\n",
       "         [ 6.6968e-01,  2.0280e-01, -1.4884e+00, -2.5294e-01,  3.8261e-01],\n",
       "         [ 8.2815e-02,  1.1958e+00, -4.3021e-01, -1.1981e+00, -1.2425e-01],\n",
       "         [-2.4096e-01, -3.4771e-01, -8.8776e-02, -9.5370e-01,  1.2759e+00],\n",
       "         [ 1.0217e+00, -1.4085e+00, -6.8496e-01, -2.3703e-01,  2.9795e-01],\n",
       "         [ 5.9004e-01,  6.4147e-02,  9.5276e-01,  3.9615e-01, -1.7989e-01],\n",
       "         [-6.8204e-01,  6.1700e-01,  1.4254e-02, -4.2262e-02,  3.7628e-02],\n",
       "         [ 1.4095e+00, -9.5167e-02, -7.0005e-01, -2.0913e+00, -3.0350e-01],\n",
       "         [ 4.8896e-01, -9.5255e-01, -1.6394e+00, -2.0531e-02,  3.2615e-01],\n",
       "         [-5.4375e-02, -2.0645e-02, -4.7169e-01,  7.4466e-01,  2.3828e-03],\n",
       "         [-1.9405e+00, -2.5203e-01,  1.3912e+00, -1.0324e+00, -2.0436e-01],\n",
       "         [-1.1804e-01, -1.0193e+00, -1.0896e+00,  4.6404e-01,  9.7275e-01],\n",
       "         [ 3.6616e-01, -1.5526e+00, -3.8956e-01, -4.8364e-02,  2.3149e+00],\n",
       "         [ 3.8036e-01,  1.2225e+00,  9.8965e-01,  2.9960e-01, -4.6404e-01],\n",
       "         [ 4.8050e-01, -3.8619e-01,  3.6933e-01, -9.2986e-03, -1.0701e-01],\n",
       "         [-9.0628e-01, -1.0050e+00,  1.4544e+00, -1.8144e+00, -1.2482e+00],\n",
       "         [-8.0620e-01, -3.1755e-02, -2.6164e-01,  8.7331e-01, -5.0012e-01],\n",
       "         [-2.4881e-02, -8.2160e-01,  1.0823e+00, -1.1134e-01,  9.6482e-02],\n",
       "         [ 1.3031e+00, -3.2817e-01, -9.9766e-01,  3.3532e-03, -6.8958e-01],\n",
       "         [-1.1305e+00,  5.3051e-01, -1.5445e-01, -5.2700e-01,  1.8811e+00],\n",
       "         [ 1.1565e+00,  1.2042e-01, -1.0296e+00, -6.5470e-01,  1.6761e-01],\n",
       "         [-5.2136e-01,  3.9394e-01,  1.1392e+00, -1.0537e-01, -7.0088e-02],\n",
       "         [-1.3496e+00, -4.8679e-01,  1.2373e+00,  4.2924e-01, -1.1988e+00],\n",
       "         [-2.5393e+00,  2.5324e-01, -6.9063e-01,  8.3636e-01, -1.2193e+00],\n",
       "         [-4.0814e-01, -7.8714e-01, -7.1889e-02,  4.5513e-03,  1.0099e+00],\n",
       "         [ 8.4248e-01, -1.4260e+00,  2.6852e-01, -1.2245e+00, -2.3993e-01],\n",
       "         [-1.4115e+00, -7.9442e-01, -7.6079e-01,  5.0726e-01, -4.4823e-01],\n",
       "         [ 1.2263e+00, -3.5497e-02, -2.9221e-01,  1.1550e+00,  2.5566e+00],\n",
       "         [-3.6833e-01, -1.1190e+00,  1.4490e+00,  2.3498e+00, -1.5065e-01],\n",
       "         [-5.6717e-02, -1.7457e-01, -1.1891e+00,  9.6907e-02, -8.1505e-01],\n",
       "         [ 7.9461e-01,  5.6624e-01, -6.7242e-01,  6.0092e-01, -1.1082e+00],\n",
       "         [-3.8624e-01, -1.0399e+00, -9.3824e-01, -2.7169e-01,  5.3048e-02],\n",
       "         [ 3.5134e-01,  7.7890e-01, -1.9447e-01, -1.9126e+00, -9.7198e-01],\n",
       "         [ 1.0143e+00,  1.3137e+00, -1.1866e+00, -7.9883e-02, -1.2659e-01],\n",
       "         [-8.8332e-02,  6.9493e-01,  1.6092e+00, -8.7456e-01,  2.8897e-01],\n",
       "         [ 1.0266e+00, -3.6513e-02, -8.1681e-01, -1.8340e+00, -8.4917e-01],\n",
       "         [-1.4345e-01, -2.3114e-02, -2.1825e+00, -3.0393e-01, -8.6638e-01],\n",
       "         [ 8.8601e-01, -4.4423e-02,  1.9067e+00,  6.0610e-01,  1.1809e+00],\n",
       "         [-8.3454e-01, -2.7480e-01, -7.7484e-01,  5.8617e-01, -1.0314e+00],\n",
       "         [-1.5529e+00, -7.7321e-01, -1.8326e-01, -1.6425e-01,  3.1332e-01],\n",
       "         [ 4.5954e-01,  1.6242e+00,  9.9053e-01, -1.9749e-01, -5.9311e-01],\n",
       "         [ 7.9801e-01,  5.9462e-01, -6.6035e-01,  3.2717e-01, -4.7213e-01],\n",
       "         [-6.4323e-01, -1.1888e+00,  1.8715e+00, -1.3264e+00,  4.4679e-01],\n",
       "         [ 6.0464e-01,  1.9224e-01, -1.3865e+00, -4.5815e-01,  2.7926e-01],\n",
       "         [ 1.7125e+00,  3.5180e-02,  1.3051e+00, -8.8078e-01,  4.1446e-02],\n",
       "         [ 1.8747e+00, -5.4476e-02,  8.2437e-01,  5.2322e-01,  3.8494e-01],\n",
       "         [ 4.3821e-02,  8.7516e-01,  1.4828e+00, -8.2213e-01, -2.7680e-01],\n",
       "         [ 2.5756e-01, -4.7702e-01,  1.2692e+00,  8.6857e-01,  1.2194e+00],\n",
       "         [-2.2500e-01, -1.1867e+00, -5.0687e-02, -1.3980e-01,  7.4450e-01],\n",
       "         [-1.6689e+00, -1.6929e+00,  6.9329e-01, -7.4419e-01, -5.9676e-01],\n",
       "         [ 5.6266e-01,  5.5291e-01,  4.6624e-01,  2.8375e-01,  1.3859e+00],\n",
       "         [ 2.5764e-01, -3.1796e-01,  8.1834e-02,  8.2124e-01,  1.1120e+00],\n",
       "         [-2.5356e-01, -6.4807e-01,  7.2396e-02,  1.5493e+00,  8.6946e-01],\n",
       "         [-1.3258e+00, -6.5181e-01,  1.9254e+00,  5.5496e-01, -5.1397e-01],\n",
       "         [ 1.9162e+00,  8.9315e-01,  6.2638e-01,  3.2435e-01, -6.7400e-01],\n",
       "         [ 3.1542e-01, -3.0926e-01,  1.1825e+00,  1.5387e+00, -5.1346e-02],\n",
       "         [ 4.3375e-01, -1.0288e-01, -2.5264e-01, -1.5674e-01,  3.4033e-01],\n",
       "         [-7.8327e-01,  1.4249e+00, -8.8563e-01, -1.4244e-01, -3.5000e-01],\n",
       "         [-2.3423e+00, -1.2218e+00,  3.3627e-01, -1.4999e+00, -3.3809e-01],\n",
       "         [ 7.2399e-01,  1.4459e+00, -8.2346e-01,  9.9444e-01, -9.2314e-01],\n",
       "         [-7.1318e-01, -2.1044e-01,  8.2725e-01,  3.6134e-01, -9.2333e-01],\n",
       "         [-4.3642e-01, -7.0077e-01,  1.2286e+00, -7.0116e-01, -5.2337e-01],\n",
       "         [-6.6786e-01,  1.2040e+00, -4.7072e-02,  4.2774e-02,  7.0611e-01],\n",
       "         [ 1.9252e+00, -1.3628e+00, -2.0101e+00,  2.8051e-01, -2.1343e+00],\n",
       "         [-2.8225e-01, -1.5656e+00,  1.3270e-01, -4.6297e-01,  9.1802e-01],\n",
       "         [-4.1463e-01,  1.3305e+00, -1.9425e+00,  3.3711e-01,  4.7835e-01],\n",
       "         [-2.8275e-01, -1.2081e+00,  4.5870e-01,  7.4354e-01, -3.8195e-01],\n",
       "         [-1.0163e+00,  1.0416e+00, -3.0951e-01, -2.2877e+00, -2.0674e+00],\n",
       "         [ 9.2885e-01, -6.9666e-01, -8.7272e-01, -7.1155e-01,  4.1090e-01],\n",
       "         [ 3.3268e-01,  1.1726e+00,  9.0517e-01, -1.1972e+00, -8.7709e-01],\n",
       "         [ 3.1987e-01,  7.3620e-01,  1.4409e-01,  1.1290e+00,  5.3722e-01],\n",
       "         [-2.0899e+00, -1.8753e+00, -1.9978e-01, -6.8790e-01, -2.8373e-01],\n",
       "         [-5.3668e-01,  1.0442e+00,  5.6208e-01,  8.3215e-01,  2.0238e+00],\n",
       "         [ 4.3843e-02, -9.2857e-01, -8.4472e-01, -1.5841e+00,  1.7159e+00],\n",
       "         [-3.5375e-01, -3.1730e-01,  1.4935e+00,  6.6410e-01, -8.9165e-02],\n",
       "         [-7.1128e-01,  4.8565e-01, -7.0491e-01,  2.4284e+00,  8.4082e-01],\n",
       "         [-1.5247e+00, -8.5054e-02, -5.1622e-01, -4.4154e-01,  1.3062e-01],\n",
       "         [ 1.2917e-01, -7.8534e-01,  1.7621e-01,  5.0517e-01, -1.5635e+00],\n",
       "         [ 1.5654e+00,  1.4246e+00, -3.0411e-01,  5.0767e-01, -3.3715e-01],\n",
       "         [-5.5407e-01, -1.5452e-01,  4.9971e-01, -2.0565e+00, -1.0454e+00],\n",
       "         [ 3.6853e-01, -1.3030e+00,  4.8876e-01, -7.5538e-02,  1.6529e+00],\n",
       "         [ 3.0404e-01, -7.3370e-01,  1.8810e+00, -1.4026e+00, -6.4139e-01],\n",
       "         [ 1.1259e-01, -3.4810e-01, -5.6099e-01, -2.4078e-01, -2.8417e-01],\n",
       "         [ 2.7704e-02, -2.6518e-02,  9.2329e-01, -7.5897e-01, -5.8770e-01],\n",
       "         [ 4.1797e-02,  1.0655e+00, -1.2438e+00, -2.4963e-01, -1.0632e-01],\n",
       "         [-4.0773e-01,  3.4776e-02, -1.5361e-01, -2.9000e-01,  7.9920e-01],\n",
       "         [ 2.1823e+00, -8.6449e-01, -2.2711e-01, -8.4546e-02, -8.6949e-01],\n",
       "         [ 2.5315e-01,  3.1272e-01, -1.3948e+00, -2.2701e-01, -1.2225e+00],\n",
       "         [-1.0123e+00,  8.3852e-02,  2.5209e-01, -1.2192e+00, -4.3633e-01],\n",
       "         [-5.5163e-01, -1.6902e-01, -7.1625e-01, -1.9084e-01, -2.6865e+00],\n",
       "         [-1.5291e+00,  1.0282e-01,  6.4814e-01, -1.6272e-01, -4.3509e-01],\n",
       "         [ 3.1669e+00,  1.8633e+00,  8.7710e-01, -6.7446e-01,  8.9295e-01],\n",
       "         [ 4.4791e-01,  1.1152e+00,  7.3038e-01,  3.3788e-01, -3.7539e-01],\n",
       "         [-1.6705e+00,  1.0921e+00, -4.2239e-01, -4.1695e-01, -1.3786e+00],\n",
       "         [ 3.2195e-01, -5.8398e-01,  4.0361e-02, -5.4670e-01,  1.3542e+00],\n",
       "         [ 6.0239e-01,  1.2237e+00,  9.9041e-01,  1.8205e-01,  4.5276e-01],\n",
       "         [ 3.6486e-01, -9.5680e-01, -2.6727e-01,  3.8015e-01,  4.8010e-01],\n",
       "         [ 3.0899e-01, -4.1738e-01,  2.0452e+00, -2.8242e-01,  9.3767e-01],\n",
       "         [-1.3845e+00,  5.1287e-01,  2.5532e-01,  4.5501e-01, -5.1873e-01],\n",
       "         [ 3.3275e-03,  8.1170e-01,  1.6834e+00, -3.4444e+00, -1.0176e-01],\n",
       "         [ 2.3624e-01, -5.5986e-01, -7.7447e-01,  1.1202e+00, -1.9455e-01],\n",
       "         [-1.5871e+00, -1.0842e+00,  1.7619e+00, -2.7686e-01,  8.4913e-02],\n",
       "         [ 1.3474e-01, -3.9255e-01, -1.4679e+00, -1.6857e+00,  1.0261e+00],\n",
       "         [-9.1064e-01, -7.3419e-01,  9.5064e-01, -1.7774e-01, -3.9749e-01],\n",
       "         [ 1.5125e-01, -3.3783e-01,  2.2700e-01, -1.1350e+00,  1.7280e-01],\n",
       "         [-1.2148e-01, -4.5073e-01, -1.9730e+00, -2.4321e-01, -4.7401e-01],\n",
       "         [ 1.8466e+00,  4.9997e-01, -1.0218e-01,  3.5172e-01,  5.0797e-01],\n",
       "         [-2.6284e-01,  1.7936e+00,  8.6049e-02,  2.4789e-01,  2.3510e-02],\n",
       "         [-2.0747e+00, -3.4335e-01, -1.5339e+00, -2.3384e+00, -9.9813e-01],\n",
       "         [-1.4878e+00, -1.4240e+00, -1.5616e+00,  2.6983e-01, -1.3161e+00],\n",
       "         [ 9.2798e-02,  4.4313e-02, -8.6307e-01,  2.0897e-01,  2.9059e+00],\n",
       "         [-2.5968e-01,  1.2482e+00,  2.7804e-01, -1.3632e-01, -6.2613e-01],\n",
       "         [-2.1436e+00, -1.4973e-01, -1.9872e-01, -3.1883e-01,  4.6527e-01],\n",
       "         [ 1.2796e+00,  1.9193e-01, -1.4967e+00,  1.0766e+00,  1.9381e+00],\n",
       "         [-9.0130e-01,  3.1056e-01, -7.8883e-01, -2.2572e-01, -7.2901e-01],\n",
       "         [ 5.3726e-02,  6.4767e-01, -1.0213e+00,  7.0181e-02,  1.9057e+00],\n",
       "         [ 7.7404e-01,  1.9590e-01,  2.8505e-01,  6.0786e-01, -4.2641e-01],\n",
       "         [-6.7097e-01,  1.8048e+00,  5.6633e-01, -1.7167e+00,  7.7455e-01],\n",
       "         [ 1.4082e+00,  4.3432e-01, -3.0951e-01,  1.0051e+00, -9.0754e-01],\n",
       "         [ 8.4844e-01, -4.4189e-01, -8.0269e-01,  4.2645e-01,  2.4137e-01],\n",
       "         [-1.7615e-01, -5.1910e-01, -4.6294e-01,  1.1334e-01, -2.4861e+00],\n",
       "         [-1.5695e+00,  2.9252e-01,  7.1660e-01,  3.6808e-01,  3.1010e+00],\n",
       "         [-1.9915e+00,  2.3484e+00, -2.3916e-01,  4.4748e-02,  9.9374e-01],\n",
       "         [ 1.8821e+00,  1.3927e+00,  5.3125e-01, -2.7332e-01,  6.5779e-01],\n",
       "         [ 3.0441e-01,  2.5638e-01, -2.5638e-01,  1.1800e+00, -2.3186e-01],\n",
       "         [ 8.4000e-01,  5.6500e-01, -8.9290e-01,  3.7535e-01, -2.9672e-01],\n",
       "         [-1.2554e+00,  1.3867e+00, -1.0903e+00,  3.2717e-03, -1.6348e+00]],\n",
       "        requires_grad=True)]"
      ]
     },
     "execution_count": 34,
     "metadata": {},
     "output_type": "execute_result"
    }
   ],
   "source": [
    "embeds = nn.Embedding(len(vocabulary), embedding_dim=5)\n",
    "list(embeds.parameters())"
   ]
  },
  {
   "cell_type": "code",
   "execution_count": 35,
   "metadata": {},
   "outputs": [],
   "source": [
    "def _collate_fn(batch, window_size: int, word_to_index: Dict[str, int]) -> any:\n",
    "    X, y = zip(*batch)\n",
    "    X = [pad_window(s, window_size=window_size) for s in X]\n",
    "    X = [tokens_to_indices(s, word_to_index) for s in X]\n",
    "    X = [torch.LongTensor(X_i) for X_i in X]\n",
    "\n",
    "    pad_token_index = word_to_index['<pad>']\n",
    "    X_padded = nn.utils.rnn.pad_sequence(X, batch_first=True, padding_value=pad_token_index)\n",
    "\n",
    "    lengths = torch.LongTensor([len(label) for label in y])\n",
    "\n",
    "    y = [torch.LongTensor(y_i) for y_i in y]\n",
    "    y_padded = nn.utils.rnn.pad_sequence(y, batch_first=True, padding_value=0)\n",
    "\n",
    "    return X_padded, y_padded, lengths"
   ]
  },
  {
   "cell_type": "code",
   "execution_count": 36,
   "metadata": {},
   "outputs": [
    {
     "name": "stdout",
     "output_type": "stream",
     "text": [
      "Iteration 0\n",
      "Batched Input:\n",
      "tensor([[  0,   0, 112,  45, 122,  69,   6,  46,   4, 112,  91,   0,   0],\n",
      "        [  0,   0, 112,  75, 101, 122,   2,  31,  60,  13,   0,   0,   0]])\n",
      "Batched Labels:\n",
      "tensor([[0, 0, 0, 0, 0, 1, 0, 0, 0],\n",
      "        [0, 0, 0, 0, 0, 0, 0, 1, 0]])\n",
      "Batched Lengths:\n",
      "tensor([9, 8])\n",
      "\n",
      "Iteration 1\n",
      "Batched Input:\n",
      "tensor([[  0,   0, 112,   7, 123,  99,   6,  92,   0,   0,   0],\n",
      "        [  0,   0,  52,  89, 131, 129,   2,  13,  87,   0,   0]])\n",
      "Batched Labels:\n",
      "tensor([[0, 0, 0, 0, 0, 1, 0],\n",
      "        [0, 0, 0, 0, 0, 1, 0]])\n",
      "Batched Lengths:\n",
      "tensor([6, 7])\n",
      "\n",
      "Iteration 2\n",
      "Batched Input:\n",
      "tensor([[  0,   0, 112,  72, 101, 122,   2, 105,  85,  88,   0,   0],\n",
      "        [  0,   0, 112,  12,  49,  17,  14,  39,   0,   0,   0,   0]])\n",
      "Batched Labels:\n",
      "tensor([[0, 0, 0, 0, 0, 0, 0, 1],\n",
      "        [0, 0, 0, 0, 1, 0, 0, 0]])\n",
      "Batched Lengths:\n",
      "tensor([8, 6])\n",
      "\n",
      "Iteration 3\n",
      "Batched Input:\n",
      "tensor([[  0,   0,  54,  36, 123,   2, 106,  96,  77,  51,   0,   0,   0,   0],\n",
      "        [  0,   0, 112, 110, 122,   2,  11,  71,  77,  88,   6,  90,   0,   0]])\n",
      "Batched Labels:\n",
      "tensor([[0, 0, 0, 0, 0, 0, 0, 1, 0, 0],\n",
      "        [0, 0, 0, 0, 0, 0, 0, 1, 0, 1]])\n",
      "Batched Lengths:\n",
      "tensor([ 8, 10])\n",
      "\n",
      "Iteration 4\n",
      "Batched Input:\n",
      "tensor([[  0,   0, 112, 101, 122,   2,  18,  96,  77,  14,   0,   0],\n",
      "        [  0,   0, 112,  73,  86, 123,  22, 129, 125, 104,   0,   0]])\n",
      "Batched Labels:\n",
      "tensor([[0, 0, 0, 0, 0, 0, 0, 1],\n",
      "        [0, 0, 0, 0, 0, 0, 1, 0]])\n",
      "Batched Lengths:\n",
      "tensor([8, 8])\n",
      "\n",
      "Iteration 5\n",
      "Batched Input:\n",
      "tensor([[  0,   0, 112,  76,  67, 116, 117, 112,  70, 109,   0,   0,   0,   0,\n",
      "           0,   0],\n",
      "        [  0,   0, 126,   8, 113,  47, 103, 111,   8, 124,  79, 133,  53,  41,\n",
      "           0,   0]])\n",
      "Batched Labels:\n",
      "tensor([[0, 0, 0, 1, 0, 0, 0, 0, 0, 0, 0, 0],\n",
      "        [0, 0, 0, 1, 0, 0, 0, 0, 0, 0, 0, 0]])\n",
      "Batched Lengths:\n",
      "tensor([ 8, 12])\n",
      "\n",
      "Iteration 6\n",
      "Batched Input:\n",
      "tensor([[  0,   0,  54,  50, 122,  34,   2, 120,  90,   0,   0],\n",
      "        [  0,   0,  55,  74,  23,  62,   2, 102,  13,   0,   0]])\n",
      "Batched Labels:\n",
      "tensor([[0, 0, 0, 0, 0, 0, 1],\n",
      "        [0, 0, 0, 0, 0, 0, 1]])\n",
      "Batched Lengths:\n",
      "tensor([7, 7])\n",
      "\n",
      "Iteration 7\n",
      "Batched Input:\n",
      "tensor([[  0,   0,  98,   3, 112,  35,  46,  77, 112,  43,   0,   0,   0,   0,\n",
      "           0],\n",
      "        [  0,   0, 112,   9, 118,   2,  68,  77,  17, 132,  59,  55,  82,   0,\n",
      "           0]])\n",
      "Batched Labels:\n",
      "tensor([[0, 0, 0, 0, 1, 0, 0, 0, 0, 0, 0],\n",
      "        [0, 0, 0, 0, 0, 0, 0, 1, 0, 0, 0]])\n",
      "Batched Lengths:\n",
      "tensor([ 8, 11])\n",
      "\n",
      "Iteration 8\n",
      "Batched Input:\n",
      "tensor([[  0,   0,  98,  26,   2,  66,  48, 108,  41, 112,  61,   0,   0,   0,\n",
      "           0],\n",
      "        [  0,   0, 112, 121,  77, 112,  94, 123,  81,   2,  21,  66,  46,   0,\n",
      "           0]])\n",
      "Batched Labels:\n",
      "tensor([[0, 0, 0, 0, 1, 0, 0, 0, 0, 0, 0],\n",
      "        [0, 0, 0, 0, 0, 0, 0, 0, 0, 0, 1]])\n",
      "Batched Lengths:\n",
      "tensor([ 9, 11])\n",
      "\n",
      "Iteration 9\n",
      "Batched Input:\n",
      "tensor([[  0,   0,   2,  40, 125,  24,  95,  79, 112, 127,   0,   0],\n",
      "        [  0,   0, 112,  44, 123,   2,  29,  90,   5,  13,   0,   0]])\n",
      "Batched Labels:\n",
      "tensor([[0, 0, 1, 0, 0, 0, 0, 0],\n",
      "        [0, 0, 0, 0, 0, 1, 0, 1]])\n",
      "Batched Lengths:\n",
      "tensor([8, 8])\n",
      "\n",
      "Iteration 10\n",
      "Batched Input:\n",
      "tensor([[  0,   0, 112,  57,  49,   2,  25,  92,  42,  32,   0,   0,   0],\n",
      "        [  0,   0,  98, 130,   2, 107,  92,  33, 114, 112,  84,   0,   0]])\n",
      "Batched Labels:\n",
      "tensor([[0, 0, 0, 0, 0, 1, 0, 0, 0],\n",
      "        [0, 0, 0, 0, 1, 0, 0, 0, 0]])\n",
      "Batched Lengths:\n",
      "tensor([8, 9])\n",
      "\n",
      "Iteration 11\n",
      "Batched Input:\n",
      "tensor([[  0,   0, 112, 110,  81, 112,  56, 129,  80,   6,  92,  58,   0,   0],\n",
      "        [  0,   0, 112,  78,  15,  49,   2,  37,  14,  27,   0,   0,   0,   0]])\n",
      "Batched Labels:\n",
      "tensor([[0, 0, 0, 0, 0, 0, 1, 0, 1, 0],\n",
      "        [0, 0, 0, 0, 0, 0, 1, 0, 0, 0]])\n",
      "Batched Lengths:\n",
      "tensor([10,  8])\n",
      "\n",
      "Iteration 12\n",
      "Batched Input:\n",
      "tensor([[  0,   0, 112,  20,  49, 128,  77,  18,  14,   0,   0,   0],\n",
      "        [  0,   0,  98,  30, 112,  94, 129,  66,  63,  28,   0,   0]])\n",
      "Batched Labels:\n",
      "tensor([[0, 0, 0, 0, 0, 0, 1, 0],\n",
      "        [0, 0, 0, 0, 0, 0, 1, 0]])\n",
      "Batched Lengths:\n",
      "tensor([7, 8])\n",
      "\n",
      "Iteration 13\n",
      "Batched Input:\n",
      "tensor([[  0,   0, 112,  10, 122,  93,   6, 132,   0,   0,   0,   0,   0,   0,\n",
      "           0,   0],\n",
      "        [  0,   0, 112,  65, 115, 119,  97,  77,  80,   6, 132,  59, 112,  38,\n",
      "           0,   0]])\n",
      "Batched Labels:\n",
      "tensor([[0, 0, 0, 0, 0, 1, 0, 0, 0, 0, 0, 0],\n",
      "        [0, 0, 0, 0, 0, 0, 1, 0, 1, 0, 0, 0]])\n",
      "Batched Lengths:\n",
      "tensor([ 6, 12])\n",
      "\n",
      "Iteration 14\n",
      "Batched Input:\n",
      "tensor([[  0,   0,  52,  16,   2,  83,  77,  19,  64, 100,   0,   0]])\n",
      "Batched Labels:\n",
      "tensor([[0, 0, 0, 0, 0, 1, 0, 0]])\n",
      "Batched Lengths:\n",
      "tensor([8])\n",
      "\n"
     ]
    }
   ],
   "source": [
    "data = list(zip(train_sentences, train_labels))\n",
    "collate_fn = partial(_collate_fn, window_size=2, word_to_index=word_to_index)\n",
    "\n",
    "loader = DataLoader(data, batch_size=2, shuffle=True, collate_fn=collate_fn)\n",
    "\n",
    "for counter, (batched_X, batched_y, batched_lengths) in enumerate(loader):\n",
    "    print(f\"Iteration {counter}\")\n",
    "    print(\"Batched Input:\")\n",
    "    print(batched_X)\n",
    "    print(\"Batched Labels:\")\n",
    "    print(batched_y)\n",
    "    print(\"Batched Lengths:\")\n",
    "    print(batched_lengths)\n",
    "    print(\"\")"
   ]
  },
  {
   "cell_type": "code",
   "execution_count": 37,
   "metadata": {},
   "outputs": [
    {
     "name": "stdout",
     "output_type": "stream",
     "text": [
      "Original Tensor:\n",
      "tensor([[  0,   0,  52,  16,   2,  83,  77,  19,  64, 100,   0,   0]])\n",
      "\n",
      "Windows:\n",
      "tensor([[[  0,   0,  52,  16,   2],\n",
      "         [  0,  52,  16,   2,  83],\n",
      "         [ 52,  16,   2,  83,  77],\n",
      "         [ 16,   2,  83,  77,  19],\n",
      "         [  2,  83,  77,  19,  64],\n",
      "         [ 83,  77,  19,  64, 100],\n",
      "         [ 77,  19,  64, 100,   0],\n",
      "         [ 19,  64, 100,   0,   0]]])\n"
     ]
    }
   ],
   "source": [
    "print('Original Tensor:')\n",
    "print(batched_X)\n",
    "\n",
    "chunk = batched_X.unfold(1, 2 * 2 + 1, 1)  # 2 * window_size + 1\n",
    "print('\\nWindows:')\n",
    "print(chunk)"
   ]
  },
  {
   "cell_type": "code",
   "execution_count": 38,
   "metadata": {},
   "outputs": [],
   "source": [
    "class WordWindowClassifier(nn.Module):\n",
    "    def __init__(self, hyperparameters, vocab_size, padding_idx=0):\n",
    "        super(WordWindowClassifier, self).__init__()\n",
    "\n",
    "        self.window_size = hyperparameters['window_size']\n",
    "        self.embed_dim = hyperparameters['embed_dim']\n",
    "        self.hidden_dim = hyperparameters['hidden_dim']\n",
    "        self.freeze_embeddings = hyperparameters['freeze_embeddings']\n",
    "\n",
    "        # Embedding Layer\n",
    "        self.embeds = nn.Embedding(vocab_size, self.embed_dim, padding_idx=padding_idx)\n",
    "        if self.freeze_embeddings: self.embed_layer.weight.requires_grad = False\n",
    "\n",
    "        # Hidden Layer\n",
    "        full_window_size = 2 * self.window_size + 1\n",
    "        self.hidden_layer = nn.Sequential(\n",
    "            nn.Linear(full_window_size * self.embed_dim, self.hidden_dim),\n",
    "            nn.Tanh()\n",
    "        )\n",
    "\n",
    "        # Output layer\n",
    "        self.output_layer = nn.Linear(self.hidden_dim, 1)\n",
    "\n",
    "        # Probabilities\n",
    "        self.probabilities = nn.Sigmoid()\n",
    "\n",
    "    def forward(self, inputs):\n",
    "        B, _ = inputs.size()\n",
    "\n",
    "        # Reshaping\n",
    "        token_windows = inputs.unfold(1, 2 * self.window_size + 1, 1)\n",
    "        _, adjusted_length, _ = token_windows.size()\n",
    "        assert token_windows.size() == (B, adjusted_length, 2 * self.window_size + 1)\n",
    "\n",
    "        # Embedding\n",
    "        embedded_windows = self.embeds(token_windows)\n",
    "\n",
    "        # Reshaping\n",
    "        embedded_windows = embedded_windows.view(B, adjusted_length, -1)\n",
    "\n",
    "        # Layer 1\n",
    "        layer_1 = self.hidden_layer(embedded_windows)\n",
    "\n",
    "        # Layer 2\n",
    "        output = self.output_layer(layer_1)\n",
    "\n",
    "        # Softmax Score\n",
    "        output = self.probabilities(output)\n",
    "        output = output.view(B, -1)\n",
    "\n",
    "        return output"
   ]
  },
  {
   "cell_type": "markdown",
   "metadata": {},
   "source": [
    "## Training"
   ]
  },
  {
   "cell_type": "code",
   "execution_count": 39,
   "metadata": {},
   "outputs": [],
   "source": [
    "data = list(zip(train_sentences, train_labels))\n",
    "batch_size = 2\n",
    "shuffle = True\n",
    "window_size = 2\n",
    "collate_fn = partial(_collate_fn, window_size=window_size, word_to_index=word_to_index)\n",
    "\n",
    "loader = DataLoader(data, batch_size=batch_size, shuffle=shuffle, collate_fn=collate_fn)\n",
    "\n",
    "model_hyperparameters = {\n",
    "    'batch_size': 4,\n",
    "    'window_size': 2,\n",
    "    'embed_dim': 25,\n",
    "    'hidden_dim': 25,\n",
    "    'freeze_embeddings': False\n",
    "}\n",
    "\n",
    "vocab_size = len(word_to_index)\n",
    "model = WordWindowClassifier(model_hyperparameters, vocab_size)"
   ]
  },
  {
   "cell_type": "markdown",
   "metadata": {},
   "source": [
    "### Optimizer Definition"
   ]
  },
  {
   "cell_type": "code",
   "execution_count": 40,
   "metadata": {},
   "outputs": [],
   "source": [
    "learning_rate = 0.01\n",
    "optimizer = torch.optim.Adam(model.parameters(), lr=learning_rate)"
   ]
  },
  {
   "cell_type": "markdown",
   "metadata": {},
   "source": [
    "### Loss and Train Functions"
   ]
  },
  {
   "cell_type": "code",
   "execution_count": 41,
   "metadata": {},
   "outputs": [],
   "source": [
    "def loss_function(batch_outputs, batch_labels, batch_lenghts) -> float:\n",
    "    bceloss = nn.BCELoss()\n",
    "    loss = bceloss(batch_outputs, batch_labels.float())\n",
    "    \n",
    "    # Rescaling\n",
    "    loss = loss/batched_lengths.sum().float()\n",
    "\n",
    "    return loss\n",
    "\n",
    "\n",
    "def train_epoch(loss_function, optimizer, model, loader):\n",
    "    total_loss = 0\n",
    "    for batch_inputs, batch_labels, batch_lengths in loader:\n",
    "        optimizer.zero_grad()  # clear gradient\n",
    "        outputs = model.forward(batch_inputs)  # forward pass\n",
    "        loss = loss_function(outputs, batch_labels, batch_lengths)  # batch loss\n",
    "        loss.backward()  # gradient\n",
    "        optimizer.step()\n",
    "        total_loss += loss.item()\n",
    "    return total_loss\n",
    "\n",
    "\n",
    "def train(loss_function, optimizer, model, loader, num_epochs=10000):\n",
    "    for epoch in range(0, num_epochs):\n",
    "        epoch_loss = train_epoch(loss_function, optimizer, model, loader)\n",
    "        if epoch % (int(num_epochs * 0.1)) == 0 or epoch == num_epochs-1: print(f'Epoch: {epoch+1} - Loss: {epoch_loss}')"
   ]
  },
  {
   "cell_type": "markdown",
   "metadata": {},
   "source": [
    "### Training"
   ]
  },
  {
   "cell_type": "code",
   "execution_count": 42,
   "metadata": {},
   "outputs": [
    {
     "name": "stdout",
     "output_type": "stream",
     "text": [
      "Epoch: 1 - Loss: 0.8960276804864407\n",
      "Epoch: 101 - Loss: 4.583937402458105e-05\n",
      "Epoch: 201 - Loss: 2.019984798096175e-05\n",
      "Epoch: 301 - Loss: 7.288666928673138e-06\n",
      "Epoch: 401 - Loss: 2.3485473299444948e-06\n",
      "Epoch: 501 - Loss: 5.880756521747799e-07\n",
      "Epoch: 601 - Loss: 2.6456731649915355e-07\n",
      "Epoch: 701 - Loss: 2.147103441707543e-07\n",
      "Epoch: 801 - Loss: 8.981876137292844e-08\n",
      "Epoch: 901 - Loss: 3.357754924104839e-08\n",
      "Epoch: 1000 - Loss: 2.6768253710840462e-08\n"
     ]
    }
   ],
   "source": [
    "num_epochs = 1000\n",
    "train(loss_function, optimizer, model, loader, num_epochs=num_epochs)"
   ]
  },
  {
   "cell_type": "markdown",
   "metadata": {},
   "source": [
    "## Model's Predictions"
   ]
  },
  {
   "cell_type": "code",
   "execution_count": 45,
   "metadata": {},
   "outputs": [
    {
     "name": "stdout",
     "output_type": "stream",
     "text": [
      "Sample 1\n",
      "   Labels: tensor([[0, 0, 0, 1, 0, 1]])\n",
      "   Outputs: tensor([1.0378e-09, 9.4432e-10, 1.9697e-09, 9.9998e-01, 2.5041e-01, 1.0000e+00],\n",
      "       grad_fn=<SelectBackward0>)\n",
      "   Detected colors: blue, orange.\n",
      "\n",
      "Sample 2\n",
      "   Labels: tensor([[0, 0, 0, 0, 0, 0, 0, 0, 1]])\n",
      "   Outputs: tensor([9.6650e-01, 1.1623e-09, 1.1613e-09, 6.8537e-04, 1.4523e-02, 9.5724e-10,\n",
      "        1.0006e-09, 4.5953e-09, 1.0000e+00], grad_fn=<SelectBackward0>)\n",
      "   Detected color: black.\n",
      "\n",
      "Sample 3\n",
      "   Labels: tensor([[0, 0, 0, 1]])\n",
      "   Outputs: tensor([9.8084e-10, 9.3371e-10, 2.4507e-09, 9.9999e-01],\n",
      "       grad_fn=<SelectBackward0>)\n",
      "   Detected color: purple.\n",
      "\n",
      "Sample 4\n",
      "   Labels: tensor([[0, 0, 0, 1]])\n",
      "   Outputs: tensor([1.7392e-08, 9.2324e-10, 5.7092e-09, 1.1634e-06],\n",
      "       grad_fn=<SelectBackward0>)\n",
      "   Detected color: <unk>.\n",
      "\n",
      "Sample 5\n",
      "   Labels: tensor([[0, 0, 0, 0]])\n",
      "   Outputs: tensor([9.9834e-01, 6.2777e-02, 1.3445e-09, 5.8848e-07],\n",
      "       grad_fn=<SelectBackward0>)\n",
      "   No color to detect.\n",
      "\n",
      "Sample 6\n",
      "   Labels: tensor([[0, 0, 0, 0, 0, 1]])\n",
      "   Outputs: tensor([5.1700e-01, 9.7383e-01, 1.2074e-02, 9.9972e-01, 9.9964e-01, 8.9415e-05],\n",
      "       grad_fn=<SelectBackward0>)\n",
      "   Detected color: <unk>.\n",
      "\n"
     ]
    }
   ],
   "source": [
    "test_corpus = [\"The sky is orange and blue.\",\n",
    "               \"When the sun goes down, the sky turns black.\",\n",
    "               \"The car is purple!\",\n",
    "               \"Is the car violet?\",\n",
    "               \"No color in there.\",\n",
    "               \"I like ham when it's pink.\"]\n",
    "test_sentences = [tokenize(sentence) for sentence in test_corpus]\n",
    "test_labels = [[0, 0, 0, 1, 0, 1],\n",
    "               [0, 0, 0, 0, 0, 0, 0, 0, 1],\n",
    "               [0, 0, 0, 1],\n",
    "               [0, 0, 0, 1],\n",
    "               [0, 0, 0, 0],\n",
    "               [0, 0, 0, 0, 0, 1]]\n",
    "\n",
    "verbose = True\n",
    "test_data = list(zip(test_sentences, test_labels))\n",
    "batch_size = 1\n",
    "shuffle = False\n",
    "window_size = 2\n",
    "collate_fn = partial(_collate_fn, window_size=window_size, word_to_index=word_to_index)\n",
    "test_loader = torch.utils.data.DataLoader(test_data, batch_size=batch_size, shuffle=False, collate_fn=collate_fn)\n",
    "\n",
    "for counter, (test_instance, labels, _) in enumerate(test_loader):\n",
    "    print(f'Sample {counter+1}')\n",
    "    outputs = model.forward(test_instance)[0]\n",
    "    if verbose:\n",
    "        print(f'   Labels: {labels}\\n   Outputs: {outputs}')\n",
    "    nb_colors = labels.sum()\n",
    "    if nb_colors == 0:\n",
    "        print('   No color to detect.\\n')\n",
    "        continue\n",
    "    colors_indexes = torch.topk(outputs.flatten(), nb_colors).indices\n",
    "    if nb_colors == 1:\n",
    "        print(f'   Detected color: {index_to_word[int(test_instance[0, window_size+colors_indexes[0]])]}.\\n')\n",
    "    else:\n",
    "        colors = ', '.join(index_to_word[int(test_instance[0, window_size+index])] for index in colors_indexes)\n",
    "        print(f'   Detected colors: {colors}.\\n')"
   ]
  },
  {
   "cell_type": "markdown",
   "metadata": {},
   "source": [
    "The performances of the models here are quite good yet it troubles on certain situations.\\\n",
    "To prevent from these, it could be relevant to increase the size of the dataset, look for a word-reduction method (stemming or lemmatizing) or optimize the structure of the neural network as it remains very basic."
   ]
  }
 ],
 "metadata": {
  "kernelspec": {
   "display_name": "Python 3",
   "language": "python",
   "name": "python3"
  },
  "language_info": {
   "codemirror_mode": {
    "name": "ipython",
    "version": 3
   },
   "file_extension": ".py",
   "mimetype": "text/x-python",
   "name": "python",
   "nbconvert_exporter": "python",
   "pygments_lexer": "ipython3",
   "version": "3.8.10"
  }
 },
 "nbformat": 4,
 "nbformat_minor": 2
}
